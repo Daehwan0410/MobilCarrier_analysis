{
 "cells": [
  {
   "cell_type": "markdown",
   "metadata": {},
   "source": [
    "# 윤대환 201601183\n",
    "## 소프트웨어응용학부"
   ]
  },
  {
   "cell_type": "code",
   "execution_count": 64,
   "metadata": {},
   "outputs": [],
   "source": [
    "import pandas as pd\n",
    "import numpy as np\n",
    "import matplotlib.pyplot as plt\n",
    "import seaborn as sns\n",
    "plt.rcParams['font.family'] = 'Malgun Gothic'\n"
   ]
  },
  {
   "cell_type": "code",
   "execution_count": 65,
   "metadata": {},
   "outputs": [],
   "source": [
    "telco = pd.read_csv('telco.csv')"
   ]
  },
  {
   "cell_type": "markdown",
   "metadata": {},
   "source": [
    "#### 데이터셋 설명\n",
    "- Leave\t가입해지여부(1이면 해지)\n",
    "- MemberWeeks\t가입기간\n",
    "- NewContract\t가입갱신여부(1이면 갱신)\n",
    "- IsData\t데이터요금제사용여부(1이면 사용)\n",
    "- DataAmount\t데이터사용량(GB)\n",
    "- Callcenter\t고객센터전화량\n",
    "- CalMins\t월평균전화량(분)\n",
    "- CalCounts\t월평균전화수(횟수)\n",
    "- MonthlyFee\t월평균요금\n",
    "- OverFee\t초과요금\n",
    "- RoamingMin\t로밍시간(분)\n"
   ]
  },
  {
   "cell_type": "code",
   "execution_count": 66,
   "metadata": {},
   "outputs": [
    {
     "data": {
      "text/plain": [
       "Leave          0\n",
       "MemberWeeks    0\n",
       "NewContract    0\n",
       "IsData         0\n",
       "DataAmount     0\n",
       "Callcenter     0\n",
       "CalMins        0\n",
       "CalCounts      0\n",
       "MonthlyFee     0\n",
       "OverFee        0\n",
       "RoamingMin     0\n",
       "dtype: int64"
      ]
     },
     "execution_count": 66,
     "metadata": {},
     "output_type": "execute_result"
    }
   ],
   "source": [
    "telco.isna().sum()"
   ]
  },
  {
   "cell_type": "markdown",
   "metadata": {},
   "source": [
    "결측치 값이 있는지 확인해 줍니다."
   ]
  },
  {
   "cell_type": "code",
   "execution_count": 67,
   "metadata": {},
   "outputs": [],
   "source": [
    "columns = {\n",
    "    \"Leave\" :\"가입해지여부\",\n",
    "    \"MemberWeeks\": \"가입기간\",\n",
    "    \"NewContract\": \"가입갱신여부\",\n",
    "    \"IsData\":\"데이터요금제사용여부\",\n",
    "    \"DataAmount\":\"데이터사용량\",\n",
    "    \"Callcenter\": \"고객센터전화량\",\n",
    "    \"CalMins\": \"월평균전화량\",\n",
    "    \"CalCounts\": \"월평균전화수\",\n",
    "    \"MonthlyFee\": \"월평균요금\",\n",
    "    \"OverFee\": \"초과요금\",\n",
    "    \"RoamingMin\": \"로밍시간\"\n",
    "        }\n",
    "telco = telco.rename(columns = columns)\n"
   ]
  },
  {
   "cell_type": "markdown",
   "metadata": {},
   "source": [
    "피처이름을 보기 쉽게 변경해 줍니다."
   ]
  },
  {
   "cell_type": "code",
   "execution_count": 28,
   "metadata": {
    "scrolled": true
   },
   "outputs": [
    {
     "name": "stdout",
     "output_type": "stream",
     "text": [
      "<class 'pandas.core.frame.DataFrame'>\n",
      "RangeIndex: 3333 entries, 0 to 3332\n",
      "Data columns (total 11 columns):\n",
      " #   Column      Non-Null Count  Dtype  \n",
      "---  ------      --------------  -----  \n",
      " 0   가입해지여부      3333 non-null   int64  \n",
      " 1   가입기간        3333 non-null   int64  \n",
      " 2   가입갱신여부      3333 non-null   int64  \n",
      " 3   데이터요금제사용여부  3333 non-null   int64  \n",
      " 4   데이터사용량      3333 non-null   float64\n",
      " 5   고객센터전화량     3333 non-null   int64  \n",
      " 6   월평균전화량      3333 non-null   float64\n",
      " 7   월평균전화수      3333 non-null   int64  \n",
      " 8   월평균요금       3333 non-null   float64\n",
      " 9   초과요금        3333 non-null   float64\n",
      " 10  로밍시간        3333 non-null   float64\n",
      "dtypes: float64(5), int64(6)\n",
      "memory usage: 286.6 KB\n"
     ]
    }
   ],
   "source": [
    "telco.info()"
   ]
  },
  {
   "cell_type": "code",
   "execution_count": 5,
   "metadata": {
    "scrolled": false
   },
   "outputs": [
    {
     "data": {
      "text/html": [
       "<div>\n",
       "<style scoped>\n",
       "    .dataframe tbody tr th:only-of-type {\n",
       "        vertical-align: middle;\n",
       "    }\n",
       "\n",
       "    .dataframe tbody tr th {\n",
       "        vertical-align: top;\n",
       "    }\n",
       "\n",
       "    .dataframe thead th {\n",
       "        text-align: right;\n",
       "    }\n",
       "</style>\n",
       "<table border=\"1\" class=\"dataframe\">\n",
       "  <thead>\n",
       "    <tr style=\"text-align: right;\">\n",
       "      <th></th>\n",
       "      <th>count</th>\n",
       "      <th>mean</th>\n",
       "      <th>std</th>\n",
       "      <th>min</th>\n",
       "      <th>25%</th>\n",
       "      <th>50%</th>\n",
       "      <th>75%</th>\n",
       "      <th>max</th>\n",
       "    </tr>\n",
       "  </thead>\n",
       "  <tbody>\n",
       "    <tr>\n",
       "      <th>가입해지여부</th>\n",
       "      <td>3333.0</td>\n",
       "      <td>0.144914</td>\n",
       "      <td>0.352067</td>\n",
       "      <td>0.0</td>\n",
       "      <td>0.00</td>\n",
       "      <td>0.00</td>\n",
       "      <td>0.00</td>\n",
       "      <td>1.00</td>\n",
       "    </tr>\n",
       "    <tr>\n",
       "      <th>가입기간</th>\n",
       "      <td>3333.0</td>\n",
       "      <td>101.064806</td>\n",
       "      <td>39.822106</td>\n",
       "      <td>1.0</td>\n",
       "      <td>74.00</td>\n",
       "      <td>101.00</td>\n",
       "      <td>127.00</td>\n",
       "      <td>243.00</td>\n",
       "    </tr>\n",
       "    <tr>\n",
       "      <th>가입갱신여부</th>\n",
       "      <td>3333.0</td>\n",
       "      <td>0.903090</td>\n",
       "      <td>0.295879</td>\n",
       "      <td>0.0</td>\n",
       "      <td>1.00</td>\n",
       "      <td>1.00</td>\n",
       "      <td>1.00</td>\n",
       "      <td>1.00</td>\n",
       "    </tr>\n",
       "    <tr>\n",
       "      <th>데이터요금제사용여부</th>\n",
       "      <td>3333.0</td>\n",
       "      <td>0.276628</td>\n",
       "      <td>0.447398</td>\n",
       "      <td>0.0</td>\n",
       "      <td>0.00</td>\n",
       "      <td>0.00</td>\n",
       "      <td>1.00</td>\n",
       "      <td>1.00</td>\n",
       "    </tr>\n",
       "    <tr>\n",
       "      <th>데이터사용량</th>\n",
       "      <td>3333.0</td>\n",
       "      <td>0.816475</td>\n",
       "      <td>1.272668</td>\n",
       "      <td>0.0</td>\n",
       "      <td>0.00</td>\n",
       "      <td>0.00</td>\n",
       "      <td>1.78</td>\n",
       "      <td>5.40</td>\n",
       "    </tr>\n",
       "    <tr>\n",
       "      <th>고객센터전화량</th>\n",
       "      <td>3333.0</td>\n",
       "      <td>1.562856</td>\n",
       "      <td>1.315491</td>\n",
       "      <td>0.0</td>\n",
       "      <td>1.00</td>\n",
       "      <td>1.00</td>\n",
       "      <td>2.00</td>\n",
       "      <td>9.00</td>\n",
       "    </tr>\n",
       "    <tr>\n",
       "      <th>월평균전화량</th>\n",
       "      <td>3333.0</td>\n",
       "      <td>179.775098</td>\n",
       "      <td>54.467389</td>\n",
       "      <td>0.0</td>\n",
       "      <td>143.70</td>\n",
       "      <td>179.40</td>\n",
       "      <td>216.40</td>\n",
       "      <td>350.80</td>\n",
       "    </tr>\n",
       "    <tr>\n",
       "      <th>월평균전화수</th>\n",
       "      <td>3333.0</td>\n",
       "      <td>100.435644</td>\n",
       "      <td>20.069084</td>\n",
       "      <td>0.0</td>\n",
       "      <td>87.00</td>\n",
       "      <td>101.00</td>\n",
       "      <td>114.00</td>\n",
       "      <td>165.00</td>\n",
       "    </tr>\n",
       "    <tr>\n",
       "      <th>월평균요금</th>\n",
       "      <td>3333.0</td>\n",
       "      <td>56.305161</td>\n",
       "      <td>16.426032</td>\n",
       "      <td>14.0</td>\n",
       "      <td>45.00</td>\n",
       "      <td>53.50</td>\n",
       "      <td>66.20</td>\n",
       "      <td>111.30</td>\n",
       "    </tr>\n",
       "    <tr>\n",
       "      <th>초과요금</th>\n",
       "      <td>3333.0</td>\n",
       "      <td>10.051488</td>\n",
       "      <td>2.535712</td>\n",
       "      <td>0.0</td>\n",
       "      <td>8.33</td>\n",
       "      <td>10.07</td>\n",
       "      <td>11.77</td>\n",
       "      <td>18.19</td>\n",
       "    </tr>\n",
       "    <tr>\n",
       "      <th>로밍시간</th>\n",
       "      <td>3333.0</td>\n",
       "      <td>10.237294</td>\n",
       "      <td>2.791840</td>\n",
       "      <td>0.0</td>\n",
       "      <td>8.50</td>\n",
       "      <td>10.30</td>\n",
       "      <td>12.10</td>\n",
       "      <td>20.00</td>\n",
       "    </tr>\n",
       "  </tbody>\n",
       "</table>\n",
       "</div>"
      ],
      "text/plain": [
       "             count        mean        std   min     25%     50%     75%  \\\n",
       "가입해지여부      3333.0    0.144914   0.352067   0.0    0.00    0.00    0.00   \n",
       "가입기간        3333.0  101.064806  39.822106   1.0   74.00  101.00  127.00   \n",
       "가입갱신여부      3333.0    0.903090   0.295879   0.0    1.00    1.00    1.00   \n",
       "데이터요금제사용여부  3333.0    0.276628   0.447398   0.0    0.00    0.00    1.00   \n",
       "데이터사용량      3333.0    0.816475   1.272668   0.0    0.00    0.00    1.78   \n",
       "고객센터전화량     3333.0    1.562856   1.315491   0.0    1.00    1.00    2.00   \n",
       "월평균전화량      3333.0  179.775098  54.467389   0.0  143.70  179.40  216.40   \n",
       "월평균전화수      3333.0  100.435644  20.069084   0.0   87.00  101.00  114.00   \n",
       "월평균요금       3333.0   56.305161  16.426032  14.0   45.00   53.50   66.20   \n",
       "초과요금        3333.0   10.051488   2.535712   0.0    8.33   10.07   11.77   \n",
       "로밍시간        3333.0   10.237294   2.791840   0.0    8.50   10.30   12.10   \n",
       "\n",
       "               max  \n",
       "가입해지여부        1.00  \n",
       "가입기간        243.00  \n",
       "가입갱신여부        1.00  \n",
       "데이터요금제사용여부    1.00  \n",
       "데이터사용량        5.40  \n",
       "고객센터전화량       9.00  \n",
       "월평균전화량      350.80  \n",
       "월평균전화수      165.00  \n",
       "월평균요금       111.30  \n",
       "초과요금         18.19  \n",
       "로밍시간         20.00  "
      ]
     },
     "execution_count": 5,
     "metadata": {},
     "output_type": "execute_result"
    }
   ],
   "source": [
    "telco.describe().T"
   ]
  },
  {
   "cell_type": "code",
   "execution_count": 68,
   "metadata": {
    "scrolled": false
   },
   "outputs": [
    {
     "data": {
      "text/html": [
       "<div>\n",
       "<style scoped>\n",
       "    .dataframe tbody tr th:only-of-type {\n",
       "        vertical-align: middle;\n",
       "    }\n",
       "\n",
       "    .dataframe tbody tr th {\n",
       "        vertical-align: top;\n",
       "    }\n",
       "\n",
       "    .dataframe thead th {\n",
       "        text-align: right;\n",
       "    }\n",
       "</style>\n",
       "<table border=\"1\" class=\"dataframe\">\n",
       "  <thead>\n",
       "    <tr style=\"text-align: right;\">\n",
       "      <th></th>\n",
       "      <th>가입해지여부</th>\n",
       "      <th>가입기간</th>\n",
       "      <th>가입갱신여부</th>\n",
       "      <th>데이터요금제사용여부</th>\n",
       "      <th>데이터사용량</th>\n",
       "      <th>고객센터전화량</th>\n",
       "      <th>월평균전화량</th>\n",
       "      <th>월평균전화수</th>\n",
       "      <th>월평균요금</th>\n",
       "      <th>초과요금</th>\n",
       "      <th>로밍시간</th>\n",
       "    </tr>\n",
       "  </thead>\n",
       "  <tbody>\n",
       "    <tr>\n",
       "      <th>0</th>\n",
       "      <td>0</td>\n",
       "      <td>128</td>\n",
       "      <td>1</td>\n",
       "      <td>1</td>\n",
       "      <td>2.699219</td>\n",
       "      <td>1</td>\n",
       "      <td>265.000</td>\n",
       "      <td>110</td>\n",
       "      <td>89.00000</td>\n",
       "      <td>9.867188</td>\n",
       "      <td>10.000000</td>\n",
       "    </tr>\n",
       "    <tr>\n",
       "      <th>1</th>\n",
       "      <td>0</td>\n",
       "      <td>107</td>\n",
       "      <td>1</td>\n",
       "      <td>1</td>\n",
       "      <td>3.699219</td>\n",
       "      <td>1</td>\n",
       "      <td>161.625</td>\n",
       "      <td>123</td>\n",
       "      <td>82.00000</td>\n",
       "      <td>9.781250</td>\n",
       "      <td>13.703125</td>\n",
       "    </tr>\n",
       "    <tr>\n",
       "      <th>2</th>\n",
       "      <td>0</td>\n",
       "      <td>137</td>\n",
       "      <td>1</td>\n",
       "      <td>0</td>\n",
       "      <td>0.000000</td>\n",
       "      <td>0</td>\n",
       "      <td>243.375</td>\n",
       "      <td>114</td>\n",
       "      <td>52.00000</td>\n",
       "      <td>6.058594</td>\n",
       "      <td>12.203125</td>\n",
       "    </tr>\n",
       "    <tr>\n",
       "      <th>3</th>\n",
       "      <td>0</td>\n",
       "      <td>84</td>\n",
       "      <td>0</td>\n",
       "      <td>0</td>\n",
       "      <td>0.000000</td>\n",
       "      <td>2</td>\n",
       "      <td>299.500</td>\n",
       "      <td>71</td>\n",
       "      <td>57.00000</td>\n",
       "      <td>3.099609</td>\n",
       "      <td>6.601562</td>\n",
       "    </tr>\n",
       "    <tr>\n",
       "      <th>4</th>\n",
       "      <td>0</td>\n",
       "      <td>75</td>\n",
       "      <td>0</td>\n",
       "      <td>0</td>\n",
       "      <td>0.000000</td>\n",
       "      <td>3</td>\n",
       "      <td>166.750</td>\n",
       "      <td>113</td>\n",
       "      <td>41.00000</td>\n",
       "      <td>7.421875</td>\n",
       "      <td>10.101562</td>\n",
       "    </tr>\n",
       "    <tr>\n",
       "      <th>...</th>\n",
       "      <td>...</td>\n",
       "      <td>...</td>\n",
       "      <td>...</td>\n",
       "      <td>...</td>\n",
       "      <td>...</td>\n",
       "      <td>...</td>\n",
       "      <td>...</td>\n",
       "      <td>...</td>\n",
       "      <td>...</td>\n",
       "      <td>...</td>\n",
       "      <td>...</td>\n",
       "    </tr>\n",
       "    <tr>\n",
       "      <th>3328</th>\n",
       "      <td>0</td>\n",
       "      <td>192</td>\n",
       "      <td>1</td>\n",
       "      <td>1</td>\n",
       "      <td>2.669922</td>\n",
       "      <td>2</td>\n",
       "      <td>156.250</td>\n",
       "      <td>77</td>\n",
       "      <td>71.68750</td>\n",
       "      <td>10.781250</td>\n",
       "      <td>9.898438</td>\n",
       "    </tr>\n",
       "    <tr>\n",
       "      <th>3329</th>\n",
       "      <td>0</td>\n",
       "      <td>68</td>\n",
       "      <td>1</td>\n",
       "      <td>0</td>\n",
       "      <td>0.340088</td>\n",
       "      <td>3</td>\n",
       "      <td>231.125</td>\n",
       "      <td>57</td>\n",
       "      <td>56.40625</td>\n",
       "      <td>7.671875</td>\n",
       "      <td>9.601562</td>\n",
       "    </tr>\n",
       "    <tr>\n",
       "      <th>3330</th>\n",
       "      <td>0</td>\n",
       "      <td>28</td>\n",
       "      <td>1</td>\n",
       "      <td>0</td>\n",
       "      <td>0.000000</td>\n",
       "      <td>2</td>\n",
       "      <td>180.750</td>\n",
       "      <td>109</td>\n",
       "      <td>56.00000</td>\n",
       "      <td>14.437500</td>\n",
       "      <td>14.101562</td>\n",
       "    </tr>\n",
       "    <tr>\n",
       "      <th>3331</th>\n",
       "      <td>0</td>\n",
       "      <td>184</td>\n",
       "      <td>0</td>\n",
       "      <td>0</td>\n",
       "      <td>0.000000</td>\n",
       "      <td>2</td>\n",
       "      <td>213.750</td>\n",
       "      <td>105</td>\n",
       "      <td>50.00000</td>\n",
       "      <td>7.980469</td>\n",
       "      <td>5.000000</td>\n",
       "    </tr>\n",
       "    <tr>\n",
       "      <th>3332</th>\n",
       "      <td>0</td>\n",
       "      <td>74</td>\n",
       "      <td>1</td>\n",
       "      <td>1</td>\n",
       "      <td>3.699219</td>\n",
       "      <td>0</td>\n",
       "      <td>234.375</td>\n",
       "      <td>113</td>\n",
       "      <td>100.00000</td>\n",
       "      <td>13.296875</td>\n",
       "      <td>13.703125</td>\n",
       "    </tr>\n",
       "  </tbody>\n",
       "</table>\n",
       "<p>3333 rows × 11 columns</p>\n",
       "</div>"
      ],
      "text/plain": [
       "      가입해지여부  가입기간  가입갱신여부  데이터요금제사용여부    데이터사용량  고객센터전화량   월평균전화량  월평균전화수  \\\n",
       "0          0   128       1           1  2.699219        1  265.000     110   \n",
       "1          0   107       1           1  3.699219        1  161.625     123   \n",
       "2          0   137       1           0  0.000000        0  243.375     114   \n",
       "3          0    84       0           0  0.000000        2  299.500      71   \n",
       "4          0    75       0           0  0.000000        3  166.750     113   \n",
       "...      ...   ...     ...         ...       ...      ...      ...     ...   \n",
       "3328       0   192       1           1  2.669922        2  156.250      77   \n",
       "3329       0    68       1           0  0.340088        3  231.125      57   \n",
       "3330       0    28       1           0  0.000000        2  180.750     109   \n",
       "3331       0   184       0           0  0.000000        2  213.750     105   \n",
       "3332       0    74       1           1  3.699219        0  234.375     113   \n",
       "\n",
       "          월평균요금       초과요금       로밍시간  \n",
       "0      89.00000   9.867188  10.000000  \n",
       "1      82.00000   9.781250  13.703125  \n",
       "2      52.00000   6.058594  12.203125  \n",
       "3      57.00000   3.099609   6.601562  \n",
       "4      41.00000   7.421875  10.101562  \n",
       "...         ...        ...        ...  \n",
       "3328   71.68750  10.781250   9.898438  \n",
       "3329   56.40625   7.671875   9.601562  \n",
       "3330   56.00000  14.437500  14.101562  \n",
       "3331   50.00000   7.980469   5.000000  \n",
       "3332  100.00000  13.296875  13.703125  \n",
       "\n",
       "[3333 rows x 11 columns]"
      ]
     },
     "execution_count": 68,
     "metadata": {},
     "output_type": "execute_result"
    }
   ],
   "source": [
    "telco.가입해지여부 = telco.가입해지여부.astype(\"int8\")\n",
    "telco.가입기간 = telco.가입기간.astype(\"int16\")\n",
    "telco.가입갱신여부 = telco.가입갱신여부.astype(\"int8\")\n",
    "telco.데이터요금제사용여부 = telco.데이터요금제사용여부.astype(\"int8\")\n",
    "telco.데이터사용량 = telco.데이터사용량.astype(\"float16\")\n",
    "telco.고객센터전화량 = telco.고객센터전화량.astype(\"int8\")\n",
    "telco.월평균전화량 = telco.월평균전화량.astype(\"float16\")\n",
    "telco.월평균전화수 = telco.월평균전화수.astype(\"int16\")\n",
    "telco.월평균요금 = telco.월평균요금.astype(\"float16\")\n",
    "telco.초과요금 = telco.초과요금.astype(\"float16\")\n",
    "telco.로밍시간 = telco.로밍시간.astype(\"float16\")\n",
    "telco\n"
   ]
  },
  {
   "cell_type": "markdown",
   "metadata": {},
   "source": [
    "데이터셋의 용량을 줄여주기 위해 각각의 데이터타입을 변경해 줍니다."
   ]
  },
  {
   "cell_type": "markdown",
   "metadata": {},
   "source": [
    "#### telco.데이터사용량 =  telco.데이터사용량.apply(lambda x : round(x , 2))\n",
    "#### telco.월평균전화량 =  telco.월평균전화량.apply(lambda x : round(x , 1))\n",
    "#### telco.월평균요금 =  telco.월평균요금.apply(lambda x : round(x , 1))\n",
    "#### telco.초과요금 =  telco.초과요금.apply(lambda x : round(x , 2))\n",
    "#### telco.로밍시간 =  telco.로밍시간.apply(lambda x : x.__round__(2))\n",
    "소수점자리가 변동이 생겨 round함수를 사용하여 수정하려고 했으나  round함수를 사용하면 데이터 타입이 다시 float64형태로 돌아가는 현상이 발생했습니다.\n",
    "그리하여 이부분은 생략했습니다."
   ]
  },
  {
   "cell_type": "code",
   "execution_count": 83,
   "metadata": {},
   "outputs": [
    {
     "name": "stdout",
     "output_type": "stream",
     "text": [
      "<class 'pandas.core.frame.DataFrame'>\n",
      "RangeIndex: 3333 entries, 0 to 3332\n",
      "Data columns (total 11 columns):\n",
      " #   Column      Non-Null Count  Dtype  \n",
      "---  ------      --------------  -----  \n",
      " 0   가입해지여부      3333 non-null   int8   \n",
      " 1   가입기간        3333 non-null   int16  \n",
      " 2   가입갱신여부      3333 non-null   int8   \n",
      " 3   데이터요금제사용여부  3333 non-null   int8   \n",
      " 4   데이터사용량      3333 non-null   float16\n",
      " 5   고객센터전화량     3333 non-null   int8   \n",
      " 6   월평균전화량      3333 non-null   float16\n",
      " 7   월평균전화수      3333 non-null   int16  \n",
      " 8   월평균요금       3333 non-null   float16\n",
      " 9   초과요금        3333 non-null   float16\n",
      " 10  로밍시간        3333 non-null   float16\n",
      "dtypes: float16(5), int16(2), int8(4)\n",
      "memory usage: 58.7 KB\n"
     ]
    }
   ],
   "source": [
    "telco.info()"
   ]
  },
  {
   "cell_type": "code",
   "execution_count": 69,
   "metadata": {
    "scrolled": false
   },
   "outputs": [
    {
     "data": {
      "text/html": [
       "<div>\n",
       "<style scoped>\n",
       "    .dataframe tbody tr th:only-of-type {\n",
       "        vertical-align: middle;\n",
       "    }\n",
       "\n",
       "    .dataframe tbody tr th {\n",
       "        vertical-align: top;\n",
       "    }\n",
       "\n",
       "    .dataframe thead th {\n",
       "        text-align: right;\n",
       "    }\n",
       "</style>\n",
       "<table border=\"1\" class=\"dataframe\">\n",
       "  <thead>\n",
       "    <tr style=\"text-align: right;\">\n",
       "      <th></th>\n",
       "      <th>가입해지여부</th>\n",
       "      <th>가입기간</th>\n",
       "      <th>가입갱신여부</th>\n",
       "      <th>데이터요금제사용여부</th>\n",
       "      <th>데이터사용량</th>\n",
       "      <th>고객센터전화량</th>\n",
       "      <th>월평균전화량</th>\n",
       "      <th>월평균전화수</th>\n",
       "      <th>월평균요금</th>\n",
       "      <th>초과요금</th>\n",
       "      <th>로밍시간</th>\n",
       "    </tr>\n",
       "  </thead>\n",
       "  <tbody>\n",
       "    <tr>\n",
       "      <th>0</th>\n",
       "      <td>0</td>\n",
       "      <td>128</td>\n",
       "      <td>1</td>\n",
       "      <td>1</td>\n",
       "      <td>2.699219</td>\n",
       "      <td>1</td>\n",
       "      <td>265.000</td>\n",
       "      <td>110</td>\n",
       "      <td>89.00000</td>\n",
       "      <td>9.867188</td>\n",
       "      <td>10.000000</td>\n",
       "    </tr>\n",
       "    <tr>\n",
       "      <th>1</th>\n",
       "      <td>0</td>\n",
       "      <td>107</td>\n",
       "      <td>1</td>\n",
       "      <td>1</td>\n",
       "      <td>3.699219</td>\n",
       "      <td>1</td>\n",
       "      <td>161.625</td>\n",
       "      <td>123</td>\n",
       "      <td>82.00000</td>\n",
       "      <td>9.781250</td>\n",
       "      <td>13.703125</td>\n",
       "    </tr>\n",
       "    <tr>\n",
       "      <th>2</th>\n",
       "      <td>0</td>\n",
       "      <td>137</td>\n",
       "      <td>1</td>\n",
       "      <td>0</td>\n",
       "      <td>0.000000</td>\n",
       "      <td>0</td>\n",
       "      <td>243.375</td>\n",
       "      <td>114</td>\n",
       "      <td>52.00000</td>\n",
       "      <td>6.058594</td>\n",
       "      <td>12.203125</td>\n",
       "    </tr>\n",
       "    <tr>\n",
       "      <th>3</th>\n",
       "      <td>0</td>\n",
       "      <td>84</td>\n",
       "      <td>0</td>\n",
       "      <td>0</td>\n",
       "      <td>0.000000</td>\n",
       "      <td>2</td>\n",
       "      <td>299.500</td>\n",
       "      <td>71</td>\n",
       "      <td>57.00000</td>\n",
       "      <td>3.099609</td>\n",
       "      <td>6.601562</td>\n",
       "    </tr>\n",
       "    <tr>\n",
       "      <th>4</th>\n",
       "      <td>0</td>\n",
       "      <td>75</td>\n",
       "      <td>0</td>\n",
       "      <td>0</td>\n",
       "      <td>0.000000</td>\n",
       "      <td>3</td>\n",
       "      <td>166.750</td>\n",
       "      <td>113</td>\n",
       "      <td>41.00000</td>\n",
       "      <td>7.421875</td>\n",
       "      <td>10.101562</td>\n",
       "    </tr>\n",
       "    <tr>\n",
       "      <th>...</th>\n",
       "      <td>...</td>\n",
       "      <td>...</td>\n",
       "      <td>...</td>\n",
       "      <td>...</td>\n",
       "      <td>...</td>\n",
       "      <td>...</td>\n",
       "      <td>...</td>\n",
       "      <td>...</td>\n",
       "      <td>...</td>\n",
       "      <td>...</td>\n",
       "      <td>...</td>\n",
       "    </tr>\n",
       "    <tr>\n",
       "      <th>3328</th>\n",
       "      <td>0</td>\n",
       "      <td>192</td>\n",
       "      <td>1</td>\n",
       "      <td>1</td>\n",
       "      <td>2.669922</td>\n",
       "      <td>2</td>\n",
       "      <td>156.250</td>\n",
       "      <td>77</td>\n",
       "      <td>71.68750</td>\n",
       "      <td>10.781250</td>\n",
       "      <td>9.898438</td>\n",
       "    </tr>\n",
       "    <tr>\n",
       "      <th>3329</th>\n",
       "      <td>0</td>\n",
       "      <td>68</td>\n",
       "      <td>1</td>\n",
       "      <td>0</td>\n",
       "      <td>0.340088</td>\n",
       "      <td>3</td>\n",
       "      <td>231.125</td>\n",
       "      <td>57</td>\n",
       "      <td>56.40625</td>\n",
       "      <td>7.671875</td>\n",
       "      <td>9.601562</td>\n",
       "    </tr>\n",
       "    <tr>\n",
       "      <th>3330</th>\n",
       "      <td>0</td>\n",
       "      <td>28</td>\n",
       "      <td>1</td>\n",
       "      <td>0</td>\n",
       "      <td>0.000000</td>\n",
       "      <td>2</td>\n",
       "      <td>180.750</td>\n",
       "      <td>109</td>\n",
       "      <td>56.00000</td>\n",
       "      <td>14.437500</td>\n",
       "      <td>14.101562</td>\n",
       "    </tr>\n",
       "    <tr>\n",
       "      <th>3331</th>\n",
       "      <td>0</td>\n",
       "      <td>184</td>\n",
       "      <td>0</td>\n",
       "      <td>0</td>\n",
       "      <td>0.000000</td>\n",
       "      <td>2</td>\n",
       "      <td>213.750</td>\n",
       "      <td>105</td>\n",
       "      <td>50.00000</td>\n",
       "      <td>7.980469</td>\n",
       "      <td>5.000000</td>\n",
       "    </tr>\n",
       "    <tr>\n",
       "      <th>3332</th>\n",
       "      <td>0</td>\n",
       "      <td>74</td>\n",
       "      <td>1</td>\n",
       "      <td>1</td>\n",
       "      <td>3.699219</td>\n",
       "      <td>0</td>\n",
       "      <td>234.375</td>\n",
       "      <td>113</td>\n",
       "      <td>100.00000</td>\n",
       "      <td>13.296875</td>\n",
       "      <td>13.703125</td>\n",
       "    </tr>\n",
       "  </tbody>\n",
       "</table>\n",
       "<p>3333 rows × 11 columns</p>\n",
       "</div>"
      ],
      "text/plain": [
       "      가입해지여부  가입기간  가입갱신여부  데이터요금제사용여부    데이터사용량  고객센터전화량   월평균전화량  월평균전화수  \\\n",
       "0          0   128       1           1  2.699219        1  265.000     110   \n",
       "1          0   107       1           1  3.699219        1  161.625     123   \n",
       "2          0   137       1           0  0.000000        0  243.375     114   \n",
       "3          0    84       0           0  0.000000        2  299.500      71   \n",
       "4          0    75       0           0  0.000000        3  166.750     113   \n",
       "...      ...   ...     ...         ...       ...      ...      ...     ...   \n",
       "3328       0   192       1           1  2.669922        2  156.250      77   \n",
       "3329       0    68       1           0  0.340088        3  231.125      57   \n",
       "3330       0    28       1           0  0.000000        2  180.750     109   \n",
       "3331       0   184       0           0  0.000000        2  213.750     105   \n",
       "3332       0    74       1           1  3.699219        0  234.375     113   \n",
       "\n",
       "          월평균요금       초과요금       로밍시간  \n",
       "0      89.00000   9.867188  10.000000  \n",
       "1      82.00000   9.781250  13.703125  \n",
       "2      52.00000   6.058594  12.203125  \n",
       "3      57.00000   3.099609   6.601562  \n",
       "4      41.00000   7.421875  10.101562  \n",
       "...         ...        ...        ...  \n",
       "3328   71.68750  10.781250   9.898438  \n",
       "3329   56.40625   7.671875   9.601562  \n",
       "3330   56.00000  14.437500  14.101562  \n",
       "3331   50.00000   7.980469   5.000000  \n",
       "3332  100.00000  13.296875  13.703125  \n",
       "\n",
       "[3333 rows x 11 columns]"
      ]
     },
     "execution_count": 69,
     "metadata": {},
     "output_type": "execute_result"
    }
   ],
   "source": [
    "telco"
   ]
  },
  {
   "cell_type": "code",
   "execution_count": 70,
   "metadata": {
    "scrolled": false
   },
   "outputs": [
    {
     "name": "stderr",
     "output_type": "stream",
     "text": [
      "c:\\users\\eoghk\\anaconda3\\envs\\section\\lib\\site-packages\\matplotlib\\backends\\backend_agg.py:238: RuntimeWarning: Glyph 8722 missing from current font.\n",
      "  font.set_text(s, 0.0, flags=flags)\n",
      "c:\\users\\eoghk\\anaconda3\\envs\\section\\lib\\site-packages\\matplotlib\\backends\\backend_agg.py:201: RuntimeWarning: Glyph 8722 missing from current font.\n",
      "  font.set_text(s, 0, flags=flags)\n"
     ]
    },
    {
     "data": {
      "text/plain": [
       "<AxesSubplot:>"
      ]
     },
     "execution_count": 70,
     "metadata": {},
     "output_type": "execute_result"
    },
    {
     "data": {
      "image/png": "[encoded data removed]",
      "text/plain": [
       "<Figure size 576x576 with 2 Axes>"
      ]
     },
     "metadata": {
      "needs_background": "light"
     },
     "output_type": "display_data"
    }
   ],
   "source": [
    "fig, ax = plt.subplots(figsize=(8, 8))\n",
    "corr = telco.corr()\n",
    "mask = np.zeros_like(corr, dtype=np.bool)\n",
    "mask[np.triu_indices_from(mask)] = True\n",
    "sns.heatmap(\n",
    " corr,\n",
    " mask=mask,\n",
    " fmt='.2f',\n",
    " annot=True,\n",
    " ax=ax,\n",
    " cmap='RdBu',\n",
    " vmin=-1,\n",
    " vmax=1,\n",
    " square=True\n",
    "#  hue = '가입'\n",
    ")"
   ]
  },
  {
   "cell_type": "markdown",
   "metadata": {},
   "source": [
    "각각의 피처들에 대한 상관관계를 비교해 보았습니다. 월평균요금에 대해 가입기간, 고객센터전화량, 월평균전화수 피처를 제외하고 나머지 피처들은 양의 상관관계를 보이는걸 확인할 수 있습니다. 월평균요금에서 데이터사용량의 피처가 가장큰 0.78의 값을 보이는걸 알 수 있습니다. 월평균요금에 있어서 데이터사용량 > 월평균전화량 > 초과요금 > 로밍시간 순으로 영향을 크게 미친다는 걸 알 수 있습니다. 그리고 데이터사용량은 데이터요금제사용여부의 컬럼과 상관관계가 0.95로 높은 수치를 나타내고 있습니다."
   ]
  },
  {
   "cell_type": "code",
   "execution_count": 71,
   "metadata": {
    "scrolled": false
   },
   "outputs": [
    {
     "data": {
      "text/html": [
       "<div>\n",
       "<style scoped>\n",
       "    .dataframe tbody tr th:only-of-type {\n",
       "        vertical-align: middle;\n",
       "    }\n",
       "\n",
       "    .dataframe tbody tr th {\n",
       "        vertical-align: top;\n",
       "    }\n",
       "\n",
       "    .dataframe thead th {\n",
       "        text-align: right;\n",
       "    }\n",
       "</style>\n",
       "<table border=\"1\" class=\"dataframe\">\n",
       "  <thead>\n",
       "    <tr style=\"text-align: right;\">\n",
       "      <th>가입갱신여부</th>\n",
       "      <th>0</th>\n",
       "      <th>1</th>\n",
       "    </tr>\n",
       "    <tr>\n",
       "      <th>가입해지여부</th>\n",
       "      <th></th>\n",
       "      <th></th>\n",
       "    </tr>\n",
       "  </thead>\n",
       "  <tbody>\n",
       "    <tr>\n",
       "      <th>0</th>\n",
       "      <td>186</td>\n",
       "      <td>2664</td>\n",
       "    </tr>\n",
       "    <tr>\n",
       "      <th>1</th>\n",
       "      <td>137</td>\n",
       "      <td>346</td>\n",
       "    </tr>\n",
       "  </tbody>\n",
       "</table>\n",
       "</div>"
      ],
      "text/plain": [
       "가입갱신여부    0     1\n",
       "가입해지여부           \n",
       "0       186  2664\n",
       "1       137   346"
      ]
     },
     "execution_count": 71,
     "metadata": {},
     "output_type": "execute_result"
    }
   ],
   "source": [
    "pd.crosstab(telco.가입해지여부, telco.가입갱신여부)"
   ]
  },
  {
   "cell_type": "markdown",
   "metadata": {},
   "source": [
    "이동통신 사용자의 갱신과 해지 여부를 살펴보면, 가입하였다가 가입해지 하는 사용자의 경우 137명으로 상대적으로 적다. 이동통신에 가입했다가 대부분의 사람들은 가입을 갱신하는 것으로 추청할 수 있습니다. 가입을 갱신한 고객은 2664명으로 압도적으로 많은 수치를 보입니다."
   ]
  },
  {
   "cell_type": "markdown",
   "metadata": {},
   "source": [
    "그리하여 가입해지여부,가입갱신여부에 따라 4가지로 분류하고 분류한것들의 데이터셋을 비교해 보겠습니다.  "
   ]
  },
  {
   "cell_type": "code",
   "execution_count": 72,
   "metadata": {},
   "outputs": [],
   "source": [
    "telco[\"가입\"] = \"00\""
   ]
  },
  {
   "cell_type": "code",
   "execution_count": 73,
   "metadata": {
    "scrolled": true
   },
   "outputs": [
    {
     "name": "stderr",
     "output_type": "stream",
     "text": [
      "c:\\users\\eoghk\\anaconda3\\envs\\section\\lib\\site-packages\\ipykernel_launcher.py:2: SettingWithCopyWarning: \n",
      "A value is trying to be set on a copy of a slice from a DataFrame\n",
      "\n",
      "See the caveats in the documentation: https://pandas.pydata.org/pandas-docs/stable/user_guide/indexing.html#returning-a-view-versus-a-copy\n",
      "  \n"
     ]
    }
   ],
   "source": [
    "for i in range(0, len(telco)) :\n",
    "    telco[\"가입\"][i] =f\"{telco.가입해지여부[i]}\"f\"{telco.가입갱신여부[i]}\""
   ]
  },
  {
   "cell_type": "markdown",
   "metadata": {},
   "source": [
    "### - telco.가입==00  가입한 고객\n",
    "### - telco.가입==01  가입연장한 고객\n",
    "### - telco.가입==10  가입후 연장하지 않고 해지한 고객\n",
    "### - telco.가입==11  가입후 연장한후 해지한 고객"
   ]
  },
  {
   "cell_type": "code",
   "execution_count": 74,
   "metadata": {},
   "outputs": [],
   "source": [
    "telco.가입 = telco.가입.astype(\"category\")"
   ]
  },
  {
   "cell_type": "code",
   "execution_count": 75,
   "metadata": {},
   "outputs": [],
   "source": [
    "telco = telco.drop([\"가입해지여부\", \"가입갱신여부\"], axis= 1)"
   ]
  },
  {
   "cell_type": "markdown",
   "metadata": {},
   "source": [
    "필요없는 컬럼을 제거해 줍니다.\n"
   ]
  },
  {
   "cell_type": "code",
   "execution_count": 94,
   "metadata": {
    "scrolled": true
   },
   "outputs": [
    {
     "name": "stdout",
     "output_type": "stream",
     "text": [
      "<class 'pandas.core.frame.DataFrame'>\n",
      "RangeIndex: 3333 entries, 0 to 3332\n",
      "Data columns (total 10 columns):\n",
      " #   Column      Non-Null Count  Dtype   \n",
      "---  ------      --------------  -----   \n",
      " 0   가입기간        3333 non-null   int16   \n",
      " 1   데이터요금제사용여부  3333 non-null   int8    \n",
      " 2   데이터사용량      3333 non-null   float16 \n",
      " 3   고객센터전화량     3333 non-null   int8    \n",
      " 4   월평균전화량      3333 non-null   float16 \n",
      " 5   월평균전화수      3333 non-null   int16   \n",
      " 6   월평균요금       3333 non-null   float16 \n",
      " 7   초과요금        3333 non-null   float16 \n",
      " 8   로밍시간        3333 non-null   float16 \n",
      " 9   가입          3333 non-null   category\n",
      "dtypes: category(1), float16(5), int16(2), int8(2)\n",
      "memory usage: 55.6 KB\n"
     ]
    }
   ],
   "source": [
    "telco.info()"
   ]
  },
  {
   "cell_type": "code",
   "execution_count": 13,
   "metadata": {},
   "outputs": [
    {
     "data": {
      "text/html": [
       "<div>\n",
       "<style scoped>\n",
       "    .dataframe tbody tr th:only-of-type {\n",
       "        vertical-align: middle;\n",
       "    }\n",
       "\n",
       "    .dataframe tbody tr th {\n",
       "        vertical-align: top;\n",
       "    }\n",
       "\n",
       "    .dataframe thead th {\n",
       "        text-align: right;\n",
       "    }\n",
       "</style>\n",
       "<table border=\"1\" class=\"dataframe\">\n",
       "  <thead>\n",
       "    <tr style=\"text-align: right;\">\n",
       "      <th></th>\n",
       "      <th>가입기간</th>\n",
       "      <th>데이터요금제사용여부</th>\n",
       "      <th>데이터사용량</th>\n",
       "      <th>고객센터전화량</th>\n",
       "      <th>월평균전화량</th>\n",
       "      <th>월평균전화수</th>\n",
       "      <th>월평균요금</th>\n",
       "      <th>초과요금</th>\n",
       "      <th>로밍시간</th>\n",
       "      <th>가입</th>\n",
       "    </tr>\n",
       "  </thead>\n",
       "  <tbody>\n",
       "    <tr>\n",
       "      <th>0</th>\n",
       "      <td>128</td>\n",
       "      <td>1</td>\n",
       "      <td>2.699219</td>\n",
       "      <td>1</td>\n",
       "      <td>265.000</td>\n",
       "      <td>110</td>\n",
       "      <td>89.00000</td>\n",
       "      <td>9.867188</td>\n",
       "      <td>10.000000</td>\n",
       "      <td>01</td>\n",
       "    </tr>\n",
       "    <tr>\n",
       "      <th>1</th>\n",
       "      <td>107</td>\n",
       "      <td>1</td>\n",
       "      <td>3.699219</td>\n",
       "      <td>1</td>\n",
       "      <td>161.625</td>\n",
       "      <td>123</td>\n",
       "      <td>82.00000</td>\n",
       "      <td>9.781250</td>\n",
       "      <td>13.703125</td>\n",
       "      <td>01</td>\n",
       "    </tr>\n",
       "    <tr>\n",
       "      <th>2</th>\n",
       "      <td>137</td>\n",
       "      <td>0</td>\n",
       "      <td>0.000000</td>\n",
       "      <td>0</td>\n",
       "      <td>243.375</td>\n",
       "      <td>114</td>\n",
       "      <td>52.00000</td>\n",
       "      <td>6.058594</td>\n",
       "      <td>12.203125</td>\n",
       "      <td>01</td>\n",
       "    </tr>\n",
       "    <tr>\n",
       "      <th>3</th>\n",
       "      <td>84</td>\n",
       "      <td>0</td>\n",
       "      <td>0.000000</td>\n",
       "      <td>2</td>\n",
       "      <td>299.500</td>\n",
       "      <td>71</td>\n",
       "      <td>57.00000</td>\n",
       "      <td>3.099609</td>\n",
       "      <td>6.601562</td>\n",
       "      <td>00</td>\n",
       "    </tr>\n",
       "    <tr>\n",
       "      <th>4</th>\n",
       "      <td>75</td>\n",
       "      <td>0</td>\n",
       "      <td>0.000000</td>\n",
       "      <td>3</td>\n",
       "      <td>166.750</td>\n",
       "      <td>113</td>\n",
       "      <td>41.00000</td>\n",
       "      <td>7.421875</td>\n",
       "      <td>10.101562</td>\n",
       "      <td>00</td>\n",
       "    </tr>\n",
       "    <tr>\n",
       "      <th>...</th>\n",
       "      <td>...</td>\n",
       "      <td>...</td>\n",
       "      <td>...</td>\n",
       "      <td>...</td>\n",
       "      <td>...</td>\n",
       "      <td>...</td>\n",
       "      <td>...</td>\n",
       "      <td>...</td>\n",
       "      <td>...</td>\n",
       "      <td>...</td>\n",
       "    </tr>\n",
       "    <tr>\n",
       "      <th>3328</th>\n",
       "      <td>192</td>\n",
       "      <td>1</td>\n",
       "      <td>2.669922</td>\n",
       "      <td>2</td>\n",
       "      <td>156.250</td>\n",
       "      <td>77</td>\n",
       "      <td>71.68750</td>\n",
       "      <td>10.781250</td>\n",
       "      <td>9.898438</td>\n",
       "      <td>01</td>\n",
       "    </tr>\n",
       "    <tr>\n",
       "      <th>3329</th>\n",
       "      <td>68</td>\n",
       "      <td>0</td>\n",
       "      <td>0.340088</td>\n",
       "      <td>3</td>\n",
       "      <td>231.125</td>\n",
       "      <td>57</td>\n",
       "      <td>56.40625</td>\n",
       "      <td>7.671875</td>\n",
       "      <td>9.601562</td>\n",
       "      <td>01</td>\n",
       "    </tr>\n",
       "    <tr>\n",
       "      <th>3330</th>\n",
       "      <td>28</td>\n",
       "      <td>0</td>\n",
       "      <td>0.000000</td>\n",
       "      <td>2</td>\n",
       "      <td>180.750</td>\n",
       "      <td>109</td>\n",
       "      <td>56.00000</td>\n",
       "      <td>14.437500</td>\n",
       "      <td>14.101562</td>\n",
       "      <td>01</td>\n",
       "    </tr>\n",
       "    <tr>\n",
       "      <th>3331</th>\n",
       "      <td>184</td>\n",
       "      <td>0</td>\n",
       "      <td>0.000000</td>\n",
       "      <td>2</td>\n",
       "      <td>213.750</td>\n",
       "      <td>105</td>\n",
       "      <td>50.00000</td>\n",
       "      <td>7.980469</td>\n",
       "      <td>5.000000</td>\n",
       "      <td>00</td>\n",
       "    </tr>\n",
       "    <tr>\n",
       "      <th>3332</th>\n",
       "      <td>74</td>\n",
       "      <td>1</td>\n",
       "      <td>3.699219</td>\n",
       "      <td>0</td>\n",
       "      <td>234.375</td>\n",
       "      <td>113</td>\n",
       "      <td>100.00000</td>\n",
       "      <td>13.296875</td>\n",
       "      <td>13.703125</td>\n",
       "      <td>01</td>\n",
       "    </tr>\n",
       "  </tbody>\n",
       "</table>\n",
       "<p>3333 rows × 10 columns</p>\n",
       "</div>"
      ],
      "text/plain": [
       "      가입기간  데이터요금제사용여부    데이터사용량  고객센터전화량   월평균전화량  월평균전화수      월평균요금  \\\n",
       "0      128           1  2.699219        1  265.000     110   89.00000   \n",
       "1      107           1  3.699219        1  161.625     123   82.00000   \n",
       "2      137           0  0.000000        0  243.375     114   52.00000   \n",
       "3       84           0  0.000000        2  299.500      71   57.00000   \n",
       "4       75           0  0.000000        3  166.750     113   41.00000   \n",
       "...    ...         ...       ...      ...      ...     ...        ...   \n",
       "3328   192           1  2.669922        2  156.250      77   71.68750   \n",
       "3329    68           0  0.340088        3  231.125      57   56.40625   \n",
       "3330    28           0  0.000000        2  180.750     109   56.00000   \n",
       "3331   184           0  0.000000        2  213.750     105   50.00000   \n",
       "3332    74           1  3.699219        0  234.375     113  100.00000   \n",
       "\n",
       "           초과요금       로밍시간  가입  \n",
       "0      9.867188  10.000000  01  \n",
       "1      9.781250  13.703125  01  \n",
       "2      6.058594  12.203125  01  \n",
       "3      3.099609   6.601562  00  \n",
       "4      7.421875  10.101562  00  \n",
       "...         ...        ...  ..  \n",
       "3328  10.781250   9.898438  01  \n",
       "3329   7.671875   9.601562  01  \n",
       "3330  14.437500  14.101562  01  \n",
       "3331   7.980469   5.000000  00  \n",
       "3332  13.296875  13.703125  01  \n",
       "\n",
       "[3333 rows x 10 columns]"
      ]
     },
     "execution_count": 13,
     "metadata": {},
     "output_type": "execute_result"
    }
   ],
   "source": [
    "telco"
   ]
  },
  {
   "cell_type": "code",
   "execution_count": 76,
   "metadata": {},
   "outputs": [],
   "source": [
    "가입00 = telco[telco.가입 ==\"00\"] # 가입한 고객\n",
    "가입01 = telco[telco.가입 ==\"01\"] # 가입연장한 고객\n",
    "가입10 = telco[telco.가입 ==\"10\"] # 가입후 연장하지 않고 해지한 고객\n",
    "가입11 = telco[telco.가입 ==\"11\"] # 가입후 연장한후 해지한 고객\n",
    "가입00_1 = 가입00.groupby('데이터요금제사용여부').데이터요금제사용여부.count()\n",
    "가입01_1 = 가입01.groupby('데이터요금제사용여부').데이터요금제사용여부.count()\n",
    "가입10_1 = 가입10.groupby('데이터요금제사용여부').데이터요금제사용여부.count()\n",
    "가입11_1 = 가입11.groupby('데이터요금제사용여부').데이터요금제사용여부.count()"
   ]
  },
  {
   "cell_type": "code",
   "execution_count": 77,
   "metadata": {
    "scrolled": false
   },
   "outputs": [
    {
     "data": {
      "image/png": "[encoded data removed]",
      "text/plain": [
       "<Figure size 864x576 with 4 Axes>"
      ]
     },
     "metadata": {},
     "output_type": "display_data"
    }
   ],
   "source": [
    "fig, axs = plt.subplots(nrows=4, figsize=(12, 8))\n",
    "plt.subplot(221)\n",
    "plt.pie(가입00_1,labels=가입00_1.index, autopct='%.2f%%')\n",
    "plt.title('가입00')\n",
    "plt.subplot(222)\n",
    "plt.pie(가입01_1,labels=가입01_1.index, autopct='%.2f%%')\n",
    "plt.title('가입01')\n",
    "plt.subplot(223)\n",
    "plt.pie(가입10_1,labels=가입01_1.index, autopct='%.2f%%')\n",
    "plt.title('가입10')\n",
    "plt.subplot(224)\n",
    "plt.pie(가입11_1,labels=가입11_1.index, autopct='%.2f%%')\n",
    "plt.title('가입11')\n",
    "plt.show()"
   ]
  },
  {
   "cell_type": "markdown",
   "metadata": {},
   "source": [
    "데이터요금제가입 여부에 대한 분류를 파이차트로 그려본 것이다. 그래프를 살펴보면 가입을 해지 하지 않은 부류는 30%가량 데이터요금제에 가입한것을  알수 있고, 가입을 해지한 고객은 26% , 12%로 낮은 수치를 기록하는 걸 확인 할 수 있다. 그리고 한가지 더 살펴보면 가입을 연장하고 나서  해지 하지 않은 고객과 해지한 고객에 대해 살펴보면 29% vs 12%를 기록하는걸 볼수 있다. 그리하여 가입을 연장한 고객중 데이터 요금제를 사용하지 않은 고객의 가입해지할 확률이 높다는걸 알 수 있다."
   ]
  },
  {
   "cell_type": "code",
   "execution_count": 78,
   "metadata": {
    "scrolled": false
   },
   "outputs": [
    {
     "data": {
      "image/png": "[encoded data removed]",
      "text/plain": [
       "<Figure size 576x576 with 1 Axes>"
      ]
     },
     "metadata": {
      "needs_background": "light"
     },
     "output_type": "display_data"
    }
   ],
   "source": [
    "fig, ax = plt.subplots(figsize=(8, 8))\n",
    "sns.violinplot( x= \"데이터요금제사용여부\",y = \"데이터사용량\", hue = \"가입\", \n",
    "              data = telco, width = 1.0)\n",
    "plt.show()"
   ]
  },
  {
   "cell_type": "markdown",
   "metadata": {},
   "source": [
    "violinplot으로 데이터요금제 사용여부에 따라 데이터사용량을 살펴본 결과입니다. 실질적으로 데이터요금제에 가입한 사람이 데이터사용량에서 압도적인 차이를 나타내고 있습니다. 데이터요금제에 가입을 안해도 데이터를 사용한 고객또한 있는것으로 나타내고 있습니다. \n",
    "가입형태에 따라 살펴보면 데이터요금제를 사용안하는 고객에 대한 분포는 4그룹 비슷한 형태를 나타내고 있습니다. 데이터요금제를 사용하는 고객에서는 가입00, 01,11은 평균적으로 2.8정도의 데이터사용량을 보이고 가입10의 형태의 고객이 3.6정도의 높은 데이터 사용량을 보이고 있습니다. "
   ]
  },
  {
   "cell_type": "code",
   "execution_count": 79,
   "metadata": {
    "scrolled": false
   },
   "outputs": [
    {
     "data": {
      "text/plain": [
       "<AxesSubplot:xlabel='데이터사용량'>"
      ]
     },
     "execution_count": 79,
     "metadata": {},
     "output_type": "execute_result"
    },
    {
     "data": {
      "image/png": "[encoded data removed]",
      "text/plain": [
       "<Figure size 360x360 with 2 Axes>"
      ]
     },
     "metadata": {
      "needs_background": "light"
     },
     "output_type": "display_data"
    }
   ],
   "source": [
    "fig, axs = plt.subplots(nrows=2, figsize=(5, 5))\n",
    "sns.boxplot(x=가입01[가입01.데이터요금제사용여부 == 0].데이터사용량, ax=axs[0])\n",
    "sns.boxplot(x=가입11[가입11.데이터요금제사용여부 == 0].데이터사용량, ax=axs[1])"
   ]
  },
  {
   "cell_type": "markdown",
   "metadata": {},
   "source": [
    "가입01의 그룹과 가입11의 데이터요금제를 사용안할때 데이터사용량에 대해 살펴보겠습니다. 그래프를 보면 가입11의 그룹경우 거의 대부분의 고객이 데이터사용량이 0을 기록하고 있습니다. 그러나 가입01의 그룹경우 50%의 고객들만 데이터사용량이 0을 기록하고 나머지 고객들은 데이터를 사용하는 것으로 측정되고 있습니다. 그리하여 가입을 연장하고 데이터사용량이 0일 고객의 경우 가입을 해지할 확률이 높다라는 가설을 새울수 있습니다."
   ]
  },
  {
   "cell_type": "code",
   "execution_count": 45,
   "metadata": {
    "scrolled": false
   },
   "outputs": [
    {
     "data": {
      "image/png": "[encoded data removed]",
      "text/plain": [
       "<Figure size 576x576 with 1 Axes>"
      ]
     },
     "metadata": {
      "needs_background": "light"
     },
     "output_type": "display_data"
    }
   ],
   "source": [
    "fig, ax = plt.subplots(figsize=(8, 8))\n",
    "sns.boxenplot( x= \"데이터요금제사용여부\",y = \"월평균요금\", hue = \"가입\", \n",
    "              data = telco, width = 1.0)\n",
    "plt.show()"
   ]
  },
  {
   "cell_type": "markdown",
   "metadata": {},
   "source": [
    "데이터요금제 사용여부에 따라 월평균요금제 또한 크게 차이가 나는걸 확인 할 수 있습니다. 각 그룹에 따라 평균적으로 7 ~ 25정도의 월평균요금의 차이를 보이고 있습니다. 상관관계에서 살펴보면 월평균요금에는 데이터요금제사용여부와 데이터사용량이 0.7점대의 양의 상관관계를 볼수 있었습니다. 실질적으로 그래프를 통해서도 데이터요금제를 사용하는 고객이 데이터도 많이 사용하고 요금도 많이 지불하는걸 알수 있었습니다."
   ]
  },
  {
   "cell_type": "code",
   "execution_count": 80,
   "metadata": {
    "scrolled": false
   },
   "outputs": [
    {
     "data": {
      "text/plain": [
       "<seaborn.axisgrid.FacetGrid at 0x29b70034f28>"
      ]
     },
     "execution_count": 80,
     "metadata": {},
     "output_type": "execute_result"
    },
    {
     "data": {
      "image/png": "[encoded data removed]",
      "text/plain": [
       "<Figure size 720x720 with 4 Axes>"
      ]
     },
     "metadata": {
      "needs_background": "light"
     },
     "output_type": "display_data"
    }
   ],
   "source": [
    "sns.catplot(\n",
    "    y = '고객센터전화량',\n",
    "    data= telco,\n",
    "    kind='box',\n",
    "    col='가입',\n",
    "    col_wrap=2\n",
    ")"
   ]
  },
  {
   "cell_type": "markdown",
   "metadata": {},
   "source": [
    "고객센터전화량와 가입유형에 따른 분포를 살펴보면 가입을 해지한 그룹과 해지하지 않은 그룹 2가지로 나뉠수 있습니다. 해지 하지 않은 그룹은 비슷한 그래프 유형을 보입니다. 고객센터전화량이 2초과인 비율이 25%로 차지 하지만 가입을 해지한 그룹은 고객센터전화랑이 2초과인 비율이 50% 차지 하고 있습니다. 그리하여 가입을 해지한 그룹은 고객센터에 많이 전화를 했다고 할 수 있습니다. \n",
    "가입을 해지 하지 않고 사용하는 고객은 고객센터 전화수가 대부분 4이하의 수치를 기록하고 있습니다. 그러나 가입을 해지한 고객센터 전화수를 살펴보면 5이상의 수치도 많이 살펴 볼 수 있다. 그리하여 5이상의 수치를 기록한 전화량은 5로 다 통일시킨다음 전화량의 비율을 살펴보겠습니다."
   ]
  },
  {
   "cell_type": "code",
   "execution_count": 84,
   "metadata": {},
   "outputs": [],
   "source": [
    "telco1 =  telco\n",
    "telco1.고객센터전화량 = telco1.고객센터전화량.apply(lambda x : x if x < 5 else 5)"
   ]
  },
  {
   "cell_type": "code",
   "execution_count": 91,
   "metadata": {
    "scrolled": false
   },
   "outputs": [
    {
     "data": {
      "image/png": "[encoded data removed]",
      "text/plain": [
       "<Figure size 936x720 with 1 Axes>"
      ]
     },
     "metadata": {
      "needs_background": "light"
     },
     "output_type": "display_data"
    }
   ],
   "source": [
    "fig, ax = plt.subplots(figsize=(13, 10))\n",
    "(\n",
    "    telco1.pipe(lambda df_: pd.crosstab(df_.가입, df_.고객센터전화량))\n",
    "    .pipe(lambda df_: df_.div(df_.sum(axis=1), axis=0))\n",
    "    .plot.bar(stacked=True, rot=0, ax=ax)\n",
    ")\n",
    "for i in range(0,4):\n",
    "    for j in range(0,6):\n",
    "        if j== 0 :\n",
    "            plt.text(i,telco1.pipe(lambda df_: pd.crosstab(df_.가입, df_.고객센터전화량)).pipe(lambda df_: df_.div(df_.sum(axis=1), axis=0)).round(2).iloc[i][j] / 2,\n",
    "                     str(int(telco1.pipe(lambda df_: pd.crosstab(df_.가입, df_.고객센터전화량)).pipe(lambda df_: df_.div(df_.sum(axis=1), axis=0)).round(2).iloc[i][j]*100))+'%', va = 'center', ha = 'center')\n",
    "        else:\n",
    "            plt.text(i,(telco1.pipe(lambda df_: pd.crosstab(df_.가입, df_.고객센터전화량)).pipe(lambda df_: df_.div(df_.sum(axis=1), axis=0)).round(2).iloc[i][j] / 2 + sum(telco1.pipe(lambda df_: pd.crosstab(df_.가입, df_.고객센터전화량)).pipe(lambda df_: df_.div(df_.sum(axis=1), axis=0)).round(2).iloc[i][:j])),\n",
    "                     str(int(telco1.pipe(lambda df_: pd.crosstab(df_.가입, df_.고객센터전화량)).pipe(lambda df_: df_.div(df_.sum(axis=1), axis=0)).round(2).iloc[i][j]*100))+'%')\n",
    "            \n"
   ]
  },
  {
   "cell_type": "markdown",
   "metadata": {},
   "source": [
    "모든 가입그룹에서 전화량이 1인 수치가 가장 높은것을 확인 할 수 있습니다. 가입을 해지 하지 않은 고객의 5번이상 고객센터에 전화한 비율은 각각 0%,1%를 기록했습니다. 그러나 가입을 해지한 고객에서는 각각 5%, 16%를 기록하며 해지 하지 않은 고객과의 큰 차이를 볼수 있었습니다. 가입11인 그룹에서는 오히려 전화를 0번한 고객보다 전화를 5번 이상한 고객의 수치가 더 큰것을 확인 할 수 있습니다. 만약 아직 해지 하지 않은 고객이 고객센터에 전화를 5번 이상한다면, 고객이 가입을 해지 할 확률이 높아 지므로 고객을 잡기 위해 더욱더 최선을 다 해야 할 것 같습니다. "
   ]
  },
  {
   "cell_type": "code",
   "execution_count": 37,
   "metadata": {
    "scrolled": true
   },
   "outputs": [
    {
     "data": {
      "text/html": [
       "<div>\n",
       "<style scoped>\n",
       "    .dataframe tbody tr th:only-of-type {\n",
       "        vertical-align: middle;\n",
       "    }\n",
       "\n",
       "    .dataframe tbody tr th {\n",
       "        vertical-align: top;\n",
       "    }\n",
       "\n",
       "    .dataframe thead th {\n",
       "        text-align: right;\n",
       "    }\n",
       "</style>\n",
       "<table border=\"1\" class=\"dataframe\">\n",
       "  <thead>\n",
       "    <tr style=\"text-align: right;\">\n",
       "      <th></th>\n",
       "      <th>0.0</th>\n",
       "      <th>0.1</th>\n",
       "    </tr>\n",
       "  </thead>\n",
       "  <tbody>\n",
       "    <tr>\n",
       "      <th>가입해지여부</th>\n",
       "      <td>1.00</td>\n",
       "      <td>1.00</td>\n",
       "    </tr>\n",
       "    <tr>\n",
       "      <th>가입기간</th>\n",
       "      <td>2.00</td>\n",
       "      <td>61.20</td>\n",
       "    </tr>\n",
       "    <tr>\n",
       "      <th>가입갱신여부</th>\n",
       "      <td>0.00</td>\n",
       "      <td>0.00</td>\n",
       "    </tr>\n",
       "    <tr>\n",
       "      <th>데이터요금제사용여부</th>\n",
       "      <td>0.00</td>\n",
       "      <td>0.00</td>\n",
       "    </tr>\n",
       "    <tr>\n",
       "      <th>데이터사용량</th>\n",
       "      <td>0.00</td>\n",
       "      <td>0.00</td>\n",
       "    </tr>\n",
       "    <tr>\n",
       "      <th>고객센터전화량</th>\n",
       "      <td>0.00</td>\n",
       "      <td>0.00</td>\n",
       "    </tr>\n",
       "    <tr>\n",
       "      <th>월평균전화량</th>\n",
       "      <td>46.50</td>\n",
       "      <td>123.62</td>\n",
       "    </tr>\n",
       "    <tr>\n",
       "      <th>월평균전화수</th>\n",
       "      <td>42.00</td>\n",
       "      <td>69.00</td>\n",
       "    </tr>\n",
       "    <tr>\n",
       "      <th>월평균요금</th>\n",
       "      <td>24.00</td>\n",
       "      <td>39.00</td>\n",
       "    </tr>\n",
       "    <tr>\n",
       "      <th>초과요금</th>\n",
       "      <td>4.69</td>\n",
       "      <td>7.01</td>\n",
       "    </tr>\n",
       "    <tr>\n",
       "      <th>로밍시간</th>\n",
       "      <td>4.10</td>\n",
       "      <td>8.12</td>\n",
       "    </tr>\n",
       "  </tbody>\n",
       "</table>\n",
       "</div>"
      ],
      "text/plain": [
       "              0.0     0.1\n",
       "가입해지여부       1.00    1.00\n",
       "가입기간         2.00   61.20\n",
       "가입갱신여부       0.00    0.00\n",
       "데이터요금제사용여부   0.00    0.00\n",
       "데이터사용량       0.00    0.00\n",
       "고객센터전화량      0.00    0.00\n",
       "월평균전화량      46.50  123.62\n",
       "월평균전화수      42.00   69.00\n",
       "월평균요금       24.00   39.00\n",
       "초과요금         4.69    7.01\n",
       "로밍시간         4.10    8.12"
      ]
     },
     "execution_count": 37,
     "metadata": {},
     "output_type": "execute_result"
    }
   ],
   "source": [
    "가입10.quantile([0, .10]).T"
   ]
  },
  {
   "cell_type": "markdown",
   "metadata": {},
   "source": [
    "단기간에 해지한 고객의 범위를 설정해주기 위해 해지한 고객의 가입기간의 하위 10%를 살펴보면 2주~61주 인 것을 확인 할 수 있다. 그리하여 76주를 기준으로 월평균 요금에 대해 살펴보겠습니다."
   ]
  },
  {
   "cell_type": "code",
   "execution_count": 81,
   "metadata": {
    "scrolled": false
   },
   "outputs": [
    {
     "data": {
      "text/plain": [
       "<AxesSubplot:xlabel='월평균요금'>"
      ]
     },
     "execution_count": 81,
     "metadata": {},
     "output_type": "execute_result"
    },
    {
     "data": {
      "image/png": "[encoded data removed]",
      "text/plain": [
       "<Figure size 864x576 with 3 Axes>"
      ]
     },
     "metadata": {
      "needs_background": "light"
     },
     "output_type": "display_data"
    }
   ],
   "source": [
    "fig, axs = plt.subplots(nrows=3, figsize=(12, 8))\n",
    "sns.boxplot(x=가입00[가입00.가입기간< 61].월평균요금, ax=axs[0])\n",
    "sns.boxplot(x=가입10[가입10.가입기간< 61].월평균요금, ax=axs[1])\n",
    "sns.boxplot(x=가입01[가입01.가입기간< 61].월평균요금, ax=axs[2])\n"
   ]
  },
  {
   "cell_type": "markdown",
   "metadata": {},
   "source": [
    " 가입00에 해당하는 고객은 30부터 100까지 다양한 금액대의 월평균요금을 지불하고, 가입10에 해당하는 고객은 20부터 60대 초반의 월평균요금을 지불하고, 가입01에 해당하는 고객은 20부터 90대 초반까지의 분포를 보이고 100이상의 요금을 지불하는 고객도 확인할 수 있다.\n",
    "단기간에 해지한 고객과 아직 해지하지 않은 고객들 간의 비교를 나타내면, 20%~50%에 해당하는 수치는 비슷하지만 75% 이상에 해당 요금은 확연히 차이가 나는 걸 알아볼 수 있다. 이 그림을 살펴보면 단기간에 해지하는 고객은 전체 고객의 월평균 요금인 58에 해당하는 요금보다 낮은 요금을 사용하는사람들이 많은걸 알 수 있다. 그리하여 단기간에 높은요금제를 사용하는 고객의 경우 해지하지 않고 가입을 유지할 가능성이 높다라는 가설을 세울 수 있습니다."
   ]
  },
  {
   "cell_type": "code",
   "execution_count": 82,
   "metadata": {},
   "outputs": [
    {
     "data": {
      "text/html": [
       "<div>\n",
       "<style scoped>\n",
       "    .dataframe tbody tr th:only-of-type {\n",
       "        vertical-align: middle;\n",
       "    }\n",
       "\n",
       "    .dataframe tbody tr th {\n",
       "        vertical-align: top;\n",
       "    }\n",
       "\n",
       "    .dataframe thead th {\n",
       "        text-align: right;\n",
       "    }\n",
       "</style>\n",
       "<table border=\"1\" class=\"dataframe\">\n",
       "  <thead>\n",
       "    <tr style=\"text-align: right;\">\n",
       "      <th></th>\n",
       "      <th>가입기간</th>\n",
       "      <th>데이터요금제사용여부</th>\n",
       "      <th>데이터사용량</th>\n",
       "      <th>고객센터전화량</th>\n",
       "      <th>월평균전화량</th>\n",
       "      <th>월평균전화수</th>\n",
       "      <th>월평균요금</th>\n",
       "      <th>초과요금</th>\n",
       "      <th>로밍시간</th>\n",
       "      <th>가입</th>\n",
       "    </tr>\n",
       "  </thead>\n",
       "  <tbody>\n",
       "    <tr>\n",
       "      <th>154</th>\n",
       "      <td>96</td>\n",
       "      <td>0</td>\n",
       "      <td>0.0</td>\n",
       "      <td>5</td>\n",
       "      <td>260.500</td>\n",
       "      <td>115</td>\n",
       "      <td>57.0</td>\n",
       "      <td>7.300781</td>\n",
       "      <td>11.500000</td>\n",
       "      <td>01</td>\n",
       "    </tr>\n",
       "    <tr>\n",
       "      <th>392</th>\n",
       "      <td>98</td>\n",
       "      <td>0</td>\n",
       "      <td>0.0</td>\n",
       "      <td>5</td>\n",
       "      <td>206.500</td>\n",
       "      <td>92</td>\n",
       "      <td>51.0</td>\n",
       "      <td>8.812500</td>\n",
       "      <td>12.398438</td>\n",
       "      <td>01</td>\n",
       "    </tr>\n",
       "    <tr>\n",
       "      <th>694</th>\n",
       "      <td>165</td>\n",
       "      <td>0</td>\n",
       "      <td>0.0</td>\n",
       "      <td>6</td>\n",
       "      <td>154.250</td>\n",
       "      <td>91</td>\n",
       "      <td>50.0</td>\n",
       "      <td>13.429688</td>\n",
       "      <td>10.898438</td>\n",
       "      <td>01</td>\n",
       "    </tr>\n",
       "    <tr>\n",
       "      <th>841</th>\n",
       "      <td>77</td>\n",
       "      <td>0</td>\n",
       "      <td>0.0</td>\n",
       "      <td>5</td>\n",
       "      <td>239.250</td>\n",
       "      <td>114</td>\n",
       "      <td>54.0</td>\n",
       "      <td>7.500000</td>\n",
       "      <td>10.296875</td>\n",
       "      <td>01</td>\n",
       "    </tr>\n",
       "    <tr>\n",
       "      <th>874</th>\n",
       "      <td>103</td>\n",
       "      <td>0</td>\n",
       "      <td>0.0</td>\n",
       "      <td>5</td>\n",
       "      <td>204.875</td>\n",
       "      <td>107</td>\n",
       "      <td>47.0</td>\n",
       "      <td>6.761719</td>\n",
       "      <td>10.398438</td>\n",
       "      <td>01</td>\n",
       "    </tr>\n",
       "    <tr>\n",
       "      <th>902</th>\n",
       "      <td>149</td>\n",
       "      <td>0</td>\n",
       "      <td>0.0</td>\n",
       "      <td>7</td>\n",
       "      <td>166.625</td>\n",
       "      <td>61</td>\n",
       "      <td>47.0</td>\n",
       "      <td>10.937500</td>\n",
       "      <td>8.203125</td>\n",
       "      <td>01</td>\n",
       "    </tr>\n",
       "    <tr>\n",
       "      <th>908</th>\n",
       "      <td>23</td>\n",
       "      <td>0</td>\n",
       "      <td>0.0</td>\n",
       "      <td>6</td>\n",
       "      <td>190.250</td>\n",
       "      <td>89</td>\n",
       "      <td>47.0</td>\n",
       "      <td>8.320312</td>\n",
       "      <td>15.000000</td>\n",
       "      <td>01</td>\n",
       "    </tr>\n",
       "    <tr>\n",
       "      <th>1246</th>\n",
       "      <td>138</td>\n",
       "      <td>0</td>\n",
       "      <td>0.0</td>\n",
       "      <td>5</td>\n",
       "      <td>194.250</td>\n",
       "      <td>83</td>\n",
       "      <td>50.0</td>\n",
       "      <td>9.500000</td>\n",
       "      <td>9.000000</td>\n",
       "      <td>01</td>\n",
       "    </tr>\n",
       "    <tr>\n",
       "      <th>1673</th>\n",
       "      <td>16</td>\n",
       "      <td>0</td>\n",
       "      <td>0.0</td>\n",
       "      <td>5</td>\n",
       "      <td>174.750</td>\n",
       "      <td>83</td>\n",
       "      <td>54.0</td>\n",
       "      <td>14.039062</td>\n",
       "      <td>10.500000</td>\n",
       "      <td>01</td>\n",
       "    </tr>\n",
       "    <tr>\n",
       "      <th>2031</th>\n",
       "      <td>130</td>\n",
       "      <td>0</td>\n",
       "      <td>0.0</td>\n",
       "      <td>5</td>\n",
       "      <td>139.125</td>\n",
       "      <td>72</td>\n",
       "      <td>45.0</td>\n",
       "      <td>12.296875</td>\n",
       "      <td>11.398438</td>\n",
       "      <td>01</td>\n",
       "    </tr>\n",
       "    <tr>\n",
       "      <th>2592</th>\n",
       "      <td>163</td>\n",
       "      <td>0</td>\n",
       "      <td>0.0</td>\n",
       "      <td>5</td>\n",
       "      <td>202.875</td>\n",
       "      <td>100</td>\n",
       "      <td>50.0</td>\n",
       "      <td>8.929688</td>\n",
       "      <td>12.796875</td>\n",
       "      <td>01</td>\n",
       "    </tr>\n",
       "    <tr>\n",
       "      <th>2646</th>\n",
       "      <td>101</td>\n",
       "      <td>0</td>\n",
       "      <td>0.0</td>\n",
       "      <td>5</td>\n",
       "      <td>232.750</td>\n",
       "      <td>114</td>\n",
       "      <td>56.0</td>\n",
       "      <td>9.320312</td>\n",
       "      <td>11.500000</td>\n",
       "      <td>01</td>\n",
       "    </tr>\n",
       "    <tr>\n",
       "      <th>2953</th>\n",
       "      <td>136</td>\n",
       "      <td>0</td>\n",
       "      <td>0.0</td>\n",
       "      <td>7</td>\n",
       "      <td>163.375</td>\n",
       "      <td>83</td>\n",
       "      <td>49.0</td>\n",
       "      <td>12.468750</td>\n",
       "      <td>9.796875</td>\n",
       "      <td>01</td>\n",
       "    </tr>\n",
       "    <tr>\n",
       "      <th>3017</th>\n",
       "      <td>141</td>\n",
       "      <td>0</td>\n",
       "      <td>0.0</td>\n",
       "      <td>5</td>\n",
       "      <td>242.750</td>\n",
       "      <td>90</td>\n",
       "      <td>62.0</td>\n",
       "      <td>11.710938</td>\n",
       "      <td>6.000000</td>\n",
       "      <td>01</td>\n",
       "    </tr>\n",
       "    <tr>\n",
       "      <th>3081</th>\n",
       "      <td>204</td>\n",
       "      <td>0</td>\n",
       "      <td>0.0</td>\n",
       "      <td>6</td>\n",
       "      <td>174.250</td>\n",
       "      <td>85</td>\n",
       "      <td>52.0</td>\n",
       "      <td>12.710938</td>\n",
       "      <td>5.898438</td>\n",
       "      <td>01</td>\n",
       "    </tr>\n",
       "    <tr>\n",
       "      <th>3181</th>\n",
       "      <td>121</td>\n",
       "      <td>0</td>\n",
       "      <td>0.0</td>\n",
       "      <td>5</td>\n",
       "      <td>215.625</td>\n",
       "      <td>74</td>\n",
       "      <td>54.0</td>\n",
       "      <td>9.648438</td>\n",
       "      <td>10.101562</td>\n",
       "      <td>01</td>\n",
       "    </tr>\n",
       "    <tr>\n",
       "      <th>3228</th>\n",
       "      <td>27</td>\n",
       "      <td>0</td>\n",
       "      <td>0.0</td>\n",
       "      <td>5</td>\n",
       "      <td>232.125</td>\n",
       "      <td>81</td>\n",
       "      <td>58.0</td>\n",
       "      <td>10.539062</td>\n",
       "      <td>15.000000</td>\n",
       "      <td>01</td>\n",
       "    </tr>\n",
       "  </tbody>\n",
       "</table>\n",
       "</div>"
      ],
      "text/plain": [
       "      가입기간  데이터요금제사용여부  데이터사용량  고객센터전화량   월평균전화량  월평균전화수  월평균요금       초과요금  \\\n",
       "154     96           0     0.0        5  260.500     115   57.0   7.300781   \n",
       "392     98           0     0.0        5  206.500      92   51.0   8.812500   \n",
       "694    165           0     0.0        6  154.250      91   50.0  13.429688   \n",
       "841     77           0     0.0        5  239.250     114   54.0   7.500000   \n",
       "874    103           0     0.0        5  204.875     107   47.0   6.761719   \n",
       "902    149           0     0.0        7  166.625      61   47.0  10.937500   \n",
       "908     23           0     0.0        6  190.250      89   47.0   8.320312   \n",
       "1246   138           0     0.0        5  194.250      83   50.0   9.500000   \n",
       "1673    16           0     0.0        5  174.750      83   54.0  14.039062   \n",
       "2031   130           0     0.0        5  139.125      72   45.0  12.296875   \n",
       "2592   163           0     0.0        5  202.875     100   50.0   8.929688   \n",
       "2646   101           0     0.0        5  232.750     114   56.0   9.320312   \n",
       "2953   136           0     0.0        7  163.375      83   49.0  12.468750   \n",
       "3017   141           0     0.0        5  242.750      90   62.0  11.710938   \n",
       "3081   204           0     0.0        6  174.250      85   52.0  12.710938   \n",
       "3181   121           0     0.0        5  215.625      74   54.0   9.648438   \n",
       "3228    27           0     0.0        5  232.125      81   58.0  10.539062   \n",
       "\n",
       "           로밍시간  가입  \n",
       "154   11.500000  01  \n",
       "392   12.398438  01  \n",
       "694   10.898438  01  \n",
       "841   10.296875  01  \n",
       "874   10.398438  01  \n",
       "902    8.203125  01  \n",
       "908   15.000000  01  \n",
       "1246   9.000000  01  \n",
       "1673  10.500000  01  \n",
       "2031  11.398438  01  \n",
       "2592  12.796875  01  \n",
       "2646  11.500000  01  \n",
       "2953   9.796875  01  \n",
       "3017   6.000000  01  \n",
       "3081   5.898438  01  \n",
       "3181  10.101562  01  \n",
       "3228  15.000000  01  "
      ]
     },
     "execution_count": 82,
     "metadata": {},
     "output_type": "execute_result"
    }
   ],
   "source": [
    "telco[(telco.가입 == '01')&(telco.데이터요금제사용여부 ==0) &(telco.고객센터전화량 >4)&(telco.데이터사용량==0)]"
   ]
  },
  {
   "cell_type": "markdown",
   "metadata": {},
   "source": [
    "그리하여 가입을 연장한 고객들중 데이터요금제사용을 안하고, 데이터사용을 안하고,고객센터에 전화를 5번이상한 고객을 추려보면 총 17명의 고객을 추릴 수 있습니다. 이 17명의 고객의 경우 가입을 해지할 확률을 높게 가지고 있습니다. "
   ]
  },
  {
   "cell_type": "code",
   "execution_count": null,
   "metadata": {},
   "outputs": [],
   "source": []
  }
 ],
 "metadata": {
  "kernelspec": {
   "display_name": "Python 3",
   "language": "python",
   "name": "python3"
  },
  "language_info": {
   "codemirror_mode": {
    "name": "ipython",
    "version": 3
   },
   "file_extension": ".py",
   "mimetype": "text/x-python",
   "name": "python",
   "nbconvert_exporter": "python",
   "pygments_lexer": "ipython3",
   "version": "3.6.10"
  }
 },
 "nbformat": 4,
 "nbformat_minor": 4
}
